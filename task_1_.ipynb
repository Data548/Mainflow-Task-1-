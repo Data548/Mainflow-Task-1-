{
  "nbformat": 4,
  "nbformat_minor": 0,
  "metadata": {
    "colab": {
      "provenance": []
    },
    "kernelspec": {
      "name": "python3",
      "display_name": "Python 3"
    },
    "language_info": {
      "name": "python"
    }
  },
  "cells": [
    {
      "cell_type": "code",
      "execution_count": null,
      "metadata": {
        "id": "i8M81cHTbxtQ"
      },
      "outputs": [],
      "source": [
        "# Creating a list, dictionary, and set\n",
        "my_list = [1, 2, 3]\n",
        "my_dict = {'a': 1, 'b': 2, 'c': 3}\n",
        "my_set = {1, 2, 3}\n"
      ]
    },
    {
      "cell_type": "code",
      "source": [
        "# Operations on the list\n",
        "print(\"Initial list:\", my_list)\n",
        "my_list.append(4)       # Adding an element to the list\n",
        "print(\"List after adding 4:\", my_list)\n",
        "my_list.remove(2)        # Removing an element from the list\n",
        "print(\"List after removing 2:\", my_list)\n",
        "my_list[1] = 10          # Modifying an element in the list\n",
        "print(\"List after modifying element at index 1:\", my_list)"
      ],
      "metadata": {
        "colab": {
          "base_uri": "https://localhost:8080/"
        },
        "id": "DtTXchNEb_LA",
        "outputId": "c518ff83-4e59-45ca-b20c-4aca5317b8b2"
      },
      "execution_count": null,
      "outputs": [
        {
          "output_type": "stream",
          "name": "stdout",
          "text": [
            "Initial list: [1, 2, 3]\n",
            "List after adding 4: [1, 2, 3, 4]\n",
            "List after removing 2: [1, 3, 4]\n",
            "List after modifying element at index 1: [1, 10, 4]\n"
          ]
        }
      ]
    },
    {
      "cell_type": "code",
      "source": [
        "# Operations on the dictionary\n",
        "print(\"\\nInitial dictionary:\", my_dict)\n",
        "my_dict['d'] = 4         # Adding a new key-value pair\n",
        "print(\"Dictionary after adding key 'd':\", my_dict)\n",
        "del my_dict['b']         # Removing a key-value pair\n",
        "print(\"Dictionary after removing key 'b':\", my_dict)\n",
        "my_dict['a'] = 10        # Modifying a value in the dictionary\n",
        "print(\"Dictionary after modifying value for key 'a':\", my_dict)\n"
      ],
      "metadata": {
        "colab": {
          "base_uri": "https://localhost:8080/"
        },
        "id": "x-vIzYdLlgWE",
        "outputId": "06508f53-a287-4ff9-c483-2bf4acdc8569"
      },
      "execution_count": null,
      "outputs": [
        {
          "output_type": "stream",
          "name": "stdout",
          "text": [
            "\n",
            "Initial dictionary: {'a': 1, 'b': 2, 'c': 3}\n",
            "Dictionary after adding key 'd': {'a': 1, 'b': 2, 'c': 3, 'd': 4}\n",
            "Dictionary after removing key 'b': {'a': 1, 'c': 3, 'd': 4}\n",
            "Dictionary after modifying value for key 'a': {'a': 10, 'c': 3, 'd': 4}\n"
          ]
        }
      ]
    },
    {
      "cell_type": "code",
      "source": [
        "# Operations on the set\n",
        "print(\"\\nInitial set:\", my_set)\n",
        "my_set.add(4)            # Adding an element to the set\n",
        "print(\"Set after adding 4:\", my_set)\n",
        "my_set.remove(1)         # Removing an element from the set\n",
        "print(\"Set after removing 1:\", my_set)\n",
        "my_set.update([5, 6])    # Adding multiple elements to the set\n",
        "print(\"Set after adding multiple elements:\", my_set)"
      ],
      "metadata": {
        "id": "p151qc2ulr5U",
        "outputId": "cf4851b2-dcf7-44df-85e2-c1cd49d04ee8",
        "colab": {
          "base_uri": "https://localhost:8080/"
        }
      },
      "execution_count": null,
      "outputs": [
        {
          "output_type": "stream",
          "name": "stdout",
          "text": [
            "\n",
            "Initial set: {1, 2, 3}\n",
            "Set after adding 4: {1, 2, 3, 4}\n",
            "Set after removing 1: {2, 3, 4}\n",
            "Set after adding multiple elements: {2, 3, 4, 5, 6}\n"
          ]
        }
      ]
    }
  ]
}